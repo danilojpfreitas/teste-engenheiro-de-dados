{
 "cells": [
  {
   "cell_type": "markdown",
   "metadata": {},
   "source": [
    "#  Teste Engenheiro de Dados - Mesha Tecnologia"
   ]
  },
  {
   "cell_type": "markdown",
   "metadata": {},
   "source": [
    "## Instalação das Dependencias"
   ]
  },
  {
   "cell_type": "code",
   "execution_count": 2,
   "metadata": {},
   "outputs": [
    {
     "name": "stdout",
     "output_type": "stream",
     "text": [
      "Collecting pyspark\n",
      "  Using cached pyspark-3.4.1-py2.py3-none-any.whl\n",
      "Collecting py4j==0.10.9.7\n",
      "  Using cached py4j-0.10.9.7-py2.py3-none-any.whl (200 kB)\n",
      "Installing collected packages: py4j, pyspark\n",
      "Successfully installed py4j-0.10.9.7 pyspark-3.4.1\n",
      "\n",
      "\u001b[1m[\u001b[0m\u001b[34;49mnotice\u001b[0m\u001b[1;39;49m]\u001b[0m\u001b[39;49m A new release of pip is available: \u001b[0m\u001b[31;49m23.0.1\u001b[0m\u001b[39;49m -> \u001b[0m\u001b[32;49m23.1.2\u001b[0m\n",
      "\u001b[1m[\u001b[0m\u001b[34;49mnotice\u001b[0m\u001b[1;39;49m]\u001b[0m\u001b[39;49m To update, run: \u001b[0m\u001b[32;49mpip install --upgrade pip\u001b[0m\n",
      "Collecting findspark\n",
      "  Using cached findspark-2.0.1-py2.py3-none-any.whl (4.4 kB)\n",
      "Installing collected packages: findspark\n",
      "Successfully installed findspark-2.0.1\n",
      "\n",
      "\u001b[1m[\u001b[0m\u001b[34;49mnotice\u001b[0m\u001b[1;39;49m]\u001b[0m\u001b[39;49m A new release of pip is available: \u001b[0m\u001b[31;49m23.0.1\u001b[0m\u001b[39;49m -> \u001b[0m\u001b[32;49m23.1.2\u001b[0m\n",
      "\u001b[1m[\u001b[0m\u001b[34;49mnotice\u001b[0m\u001b[1;39;49m]\u001b[0m\u001b[39;49m To update, run: \u001b[0m\u001b[32;49mpip install --upgrade pip\u001b[0m\n",
      "Collecting pandas\n",
      "  Using cached pandas-2.0.2-cp311-cp311-manylinux_2_17_x86_64.manylinux2014_x86_64.whl (12.2 MB)\n",
      "Requirement already satisfied: python-dateutil>=2.8.2 in /home/gitpod/.pyenv/versions/3.11.1/lib/python3.11/site-packages (from pandas) (2.8.2)\n",
      "Collecting pytz>=2020.1\n",
      "  Using cached pytz-2023.3-py2.py3-none-any.whl (502 kB)\n",
      "Collecting tzdata>=2022.1\n",
      "  Using cached tzdata-2023.3-py2.py3-none-any.whl (341 kB)\n",
      "Collecting numpy>=1.21.0\n",
      "  Using cached numpy-1.25.0-cp311-cp311-manylinux_2_17_x86_64.manylinux2014_x86_64.whl (17.6 MB)\n",
      "Requirement already satisfied: six>=1.5 in /home/gitpod/.pyenv/versions/3.11.1/lib/python3.11/site-packages (from python-dateutil>=2.8.2->pandas) (1.16.0)\n",
      "Installing collected packages: pytz, tzdata, numpy, pandas\n",
      "Successfully installed numpy-1.25.0 pandas-2.0.2 pytz-2023.3 tzdata-2023.3\n",
      "\n",
      "\u001b[1m[\u001b[0m\u001b[34;49mnotice\u001b[0m\u001b[1;39;49m]\u001b[0m\u001b[39;49m A new release of pip is available: \u001b[0m\u001b[31;49m23.0.1\u001b[0m\u001b[39;49m -> \u001b[0m\u001b[32;49m23.1.2\u001b[0m\n",
      "\u001b[1m[\u001b[0m\u001b[34;49mnotice\u001b[0m\u001b[1;39;49m]\u001b[0m\u001b[39;49m To update, run: \u001b[0m\u001b[32;49mpip install --upgrade pip\u001b[0m\n",
      "Collecting install-jdk\n",
      "  Using cached install_jdk-1.0.4-py3-none-any.whl (15 kB)\n",
      "Installing collected packages: install-jdk\n",
      "Successfully installed install-jdk-1.0.4\n",
      "\n",
      "\u001b[1m[\u001b[0m\u001b[34;49mnotice\u001b[0m\u001b[1;39;49m]\u001b[0m\u001b[39;49m A new release of pip is available: \u001b[0m\u001b[31;49m23.0.1\u001b[0m\u001b[39;49m -> \u001b[0m\u001b[32;49m23.1.2\u001b[0m\n",
      "\u001b[1m[\u001b[0m\u001b[34;49mnotice\u001b[0m\u001b[1;39;49m]\u001b[0m\u001b[39;49m To update, run: \u001b[0m\u001b[32;49mpip install --upgrade pip\u001b[0m\n"
     ]
    }
   ],
   "source": [
    "!pip install pyspark\n",
    "!pip install findspark\n",
    "!pip install pandas \n",
    "!pip install install-jdk"
   ]
  },
  {
   "cell_type": "markdown",
   "metadata": {},
   "source": [
    "## Importação das Dependencias e Inicialização do PySpark"
   ]
  },
  {
   "cell_type": "code",
   "execution_count": 4,
   "metadata": {},
   "outputs": [],
   "source": [
    "import pandas as pd\n",
    "import findspark\n",
    "from pyspark.sql import SparkSession"
   ]
  },
  {
   "cell_type": "code",
   "execution_count": 5,
   "metadata": {},
   "outputs": [],
   "source": [
    "findspark.init()"
   ]
  },
  {
   "cell_type": "code",
   "execution_count": 6,
   "metadata": {},
   "outputs": [
    {
     "name": "stderr",
     "output_type": "stream",
     "text": [
      "Picked up JAVA_TOOL_OPTIONS:  -Xmx12884m\n",
      "Picked up JAVA_TOOL_OPTIONS:  -Xmx12884m\n",
      "23/06/28 02:26:53 WARN Utils: Your hostname, danilojpfre-testeengenh-349ickl44bp resolves to a loopback address: 127.0.0.1; using 10.0.5.2 instead (on interface eth0)\n",
      "23/06/28 02:26:53 WARN Utils: Set SPARK_LOCAL_IP if you need to bind to another address\n",
      "Setting default log level to \"WARN\".\n",
      "To adjust logging level use sc.setLogLevel(newLevel). For SparkR, use setLogLevel(newLevel).\n",
      "23/06/28 02:26:53 WARN NativeCodeLoader: Unable to load native-hadoop library for your platform... using builtin-java classes where applicable\n"
     ]
    }
   ],
   "source": [
    "spark = SparkSession.builder.master('local[*]').getOrCreate()"
   ]
  },
  {
   "cell_type": "code",
   "execution_count": 7,
   "metadata": {},
   "outputs": [
    {
     "data": {
      "text/html": [
       "\n",
       "            <div>\n",
       "                <p><b>SparkSession - in-memory</b></p>\n",
       "                \n",
       "        <div>\n",
       "            <p><b>SparkContext</b></p>\n",
       "\n",
       "            <p><a href=\"http://10.0.5.2:4040\">Spark UI</a></p>\n",
       "\n",
       "            <dl>\n",
       "              <dt>Version</dt>\n",
       "                <dd><code>v3.4.1</code></dd>\n",
       "              <dt>Master</dt>\n",
       "                <dd><code>local[*]</code></dd>\n",
       "              <dt>AppName</dt>\n",
       "                <dd><code>pyspark-shell</code></dd>\n",
       "            </dl>\n",
       "        </div>\n",
       "        \n",
       "            </div>\n",
       "        "
      ],
      "text/plain": [
       "<pyspark.sql.session.SparkSession at 0x7f5fb9a5d490>"
      ]
     },
     "execution_count": 7,
     "metadata": {},
     "output_type": "execute_result"
    }
   ],
   "source": [
    "spark"
   ]
  },
  {
   "cell_type": "markdown",
   "metadata": {},
   "source": [
    "## Extração dos Dados"
   ]
  },
  {
   "cell_type": "code",
   "execution_count": 76,
   "metadata": {},
   "outputs": [],
   "source": [
    "path = \"/workspace/teste-engenheiro-de-dados/dados/row/DADOS/MICRODADOS_ENEM_2020.csv\""
   ]
  },
  {
   "cell_type": "code",
   "execution_count": 77,
   "metadata": {},
   "outputs": [],
   "source": [
    "enem = spark.read.csv(path, sep=\";\", header=True)"
   ]
  },
  {
   "cell_type": "code",
   "execution_count": 78,
   "metadata": {},
   "outputs": [
    {
     "name": "stdout",
     "output_type": "stream",
     "text": [
      "+------------+------+---------------+-------+---------------+-----------+----------------+---------------+---------------+---------+---------+------------+----------------+-------------------+---------+---------+----------------------+------------------+---------------+------------------+-------------------+-----------+-----------+--------------+--------------+--------------+--------------+-----------+-----------+-----------+-----------+----------+----------+----------+----------+--------------------+--------------------+--------------------+--------------------+---------+--------------------+--------------------+--------------------+--------------------+-----------------+-------------+-------------+-------------+-------------+-------------+---------------+----+----+----+----+----+----+----+----+----+----+----+----+----+----+----+----+----+----+----+----+----+----+----+----+----+\n",
      "|NU_INSCRICAO|NU_ANO|TP_FAIXA_ETARIA|TP_SEXO|TP_ESTADO_CIVIL|TP_COR_RACA|TP_NACIONALIDADE|TP_ST_CONCLUSAO|TP_ANO_CONCLUIU|TP_ESCOLA|TP_ENSINO|IN_TREINEIRO|CO_MUNICIPIO_ESC|   NO_MUNICIPIO_ESC|CO_UF_ESC|SG_UF_ESC|TP_DEPENDENCIA_ADM_ESC|TP_LOCALIZACAO_ESC|TP_SIT_FUNC_ESC|CO_MUNICIPIO_PROVA| NO_MUNICIPIO_PROVA|CO_UF_PROVA|SG_UF_PROVA|TP_PRESENCA_CN|TP_PRESENCA_CH|TP_PRESENCA_LC|TP_PRESENCA_MT|CO_PROVA_CN|CO_PROVA_CH|CO_PROVA_LC|CO_PROVA_MT|NU_NOTA_CN|NU_NOTA_CH|NU_NOTA_LC|NU_NOTA_MT|     TX_RESPOSTAS_CN|     TX_RESPOSTAS_CH|     TX_RESPOSTAS_LC|     TX_RESPOSTAS_MT|TP_LINGUA|      TX_GABARITO_CN|      TX_GABARITO_CH|      TX_GABARITO_LC|      TX_GABARITO_MT|TP_STATUS_REDACAO|NU_NOTA_COMP1|NU_NOTA_COMP2|NU_NOTA_COMP3|NU_NOTA_COMP4|NU_NOTA_COMP5|NU_NOTA_REDACAO|Q001|Q002|Q003|Q004|Q005|Q006|Q007|Q008|Q009|Q010|Q011|Q012|Q013|Q014|Q015|Q016|Q017|Q018|Q019|Q020|Q021|Q022|Q023|Q024|Q025|\n",
      "+------------+------+---------------+-------+---------------+-----------+----------------+---------------+---------------+---------+---------+------------+----------------+-------------------+---------+---------+----------------------+------------------+---------------+------------------+-------------------+-----------+-----------+--------------+--------------+--------------+--------------+-----------+-----------+-----------+-----------+----------+----------+----------+----------+--------------------+--------------------+--------------------+--------------------+---------+--------------------+--------------------+--------------------+--------------------+-----------------+-------------+-------------+-------------+-------------+-------------+---------------+----+----+----+----+----+----+----+----+----+----+----+----+----+----+----+----+----+----+----+----+----+----+----+----+----+\n",
      "|200006271946|  2020|             11|      F|              1|          2|               1|              1|             11|        1|     null|           0|            null|               null|     null|     null|                  null|              null|           null|           1501402|              Bel�m|         15|         PA|             0|             0|             0|             0|       null|       null|       null|       null|      null|      null|      null|      null|                null|                null|                null|                null|        1|                null|                null|                null|                null|             null|         null|         null|         null|         null|         null|           null|null|null|null|null|null|null|null|null|null|null|null|null|null|null|null|null|null|null|null|null|null|null|null|null|null|\n",
      "|200001195856|  2020|             11|      M|              2|          3|               1|              1|             11|        1|     null|           0|            null|               null|     null|     null|                  null|              null|           null|           2408102|              Natal|         24|         RN|             1|             1|             1|             1|        702|        689|        693|        698|     604.1|     661.7|     595.3|     711.3|BCBDBDCCCDBDDBADE...|BCAECABCDCEBDBBBD...|99999CADDEDADBAAB...|EBEBDEDAECBADCADD...|        1|ABBACBCCCDDDDBAEE...|BCEECDBCCDEBDBBBB...|99999CBDDEDBDBACE...|BBEADECAECBBXCEBA...|                1|          120|          120|          120|          120|          100|            580|null|null|null|null|null|null|null|null|null|null|null|null|null|null|null|null|null|null|null|null|null|null|null|null|null|\n",
      "|200001943954|  2020|              4|      F|              2|          3|               2|              2|              0|        2|        1|           0|         2927408|           Salvador|       29|       BA|                     2|                 1|              1|           2927408|           Salvador|         29|         BA|             0|             0|             0|             0|       null|       null|       null|       null|      null|      null|      null|      null|                null|                null|                null|                null|        0|                null|                null|                null|                null|             null|         null|         null|         null|         null|         null|           null|   B|   C|   A|   D|   3|   B|   A|   B|   A|   A|   A|   B|   A|   B|   A|   B|   A|   A|   B|   A|   A|   A|   A|   A|   A|\n",
      "|200001908998|  2020|              2|      M|              1|          3|               1|              2|              0|        2|        1|           0|         3547304|Santana de Parna�ba|       35|       SP|                     3|                 1|              1|           3547304|Santana de Parna�ba|         35|         SP|             1|             1|             1|             1|        700|        688|        692|        696|     620.8|       675|     624.2|     759.4|EBEDCCCDCBDBAECAE...|DABCCACCBCCDCADBD...|DCEAB99999AADAECC...|CBDBDCCDDEECBAABB...|        0|BDECCACBEBDEAEDAE...|DABCCAECBABECADBD...|DCEAD99999AADACCC...|EBDBXCCDAEECBAABA...|                1|          140|          200|          140|          120|          160|            760|null|null|null|null|null|null|null|null|null|null|null|null|null|null|null|null|null|null|null|null|null|null|null|null|null|\n",
      "|200001634757|  2020|              4|      F|              1|          3|               2|              1|              1|        1|     null|           0|            null|               null|     null|     null|                  null|              null|           null|           3121605|         Diamantina|         31|         MG|             0|             0|             0|             0|       null|       null|       null|       null|      null|      null|      null|      null|                null|                null|                null|                null|        1|                null|                null|                null|                null|             null|         null|         null|         null|         null|         null|           null|   B|   G|   B|   B|   3|   B|   A|   B|   D|   A|   A|   B|   A|   B|   A|   A|   A|   A|   B|   A|   B|   B|   A|   A|   B|\n",
      "+------------+------+---------------+-------+---------------+-----------+----------------+---------------+---------------+---------+---------+------------+----------------+-------------------+---------+---------+----------------------+------------------+---------------+------------------+-------------------+-----------+-----------+--------------+--------------+--------------+--------------+-----------+-----------+-----------+-----------+----------+----------+----------+----------+--------------------+--------------------+--------------------+--------------------+---------+--------------------+--------------------+--------------------+--------------------+-----------------+-------------+-------------+-------------+-------------+-------------+---------------+----+----+----+----+----+----+----+----+----+----+----+----+----+----+----+----+----+----+----+----+----+----+----+----+----+\n",
      "\n"
     ]
    }
   ],
   "source": [
    "enem.limit(5).show()"
   ]
  },
  {
   "cell_type": "code",
   "execution_count": 79,
   "metadata": {},
   "outputs": [
    {
     "name": "stdout",
     "output_type": "stream",
     "text": [
      "root\n",
      " |-- NU_INSCRICAO: string (nullable = true)\n",
      " |-- NU_ANO: string (nullable = true)\n",
      " |-- TP_FAIXA_ETARIA: string (nullable = true)\n",
      " |-- TP_SEXO: string (nullable = true)\n",
      " |-- TP_ESTADO_CIVIL: string (nullable = true)\n",
      " |-- TP_COR_RACA: string (nullable = true)\n",
      " |-- TP_NACIONALIDADE: string (nullable = true)\n",
      " |-- TP_ST_CONCLUSAO: string (nullable = true)\n",
      " |-- TP_ANO_CONCLUIU: string (nullable = true)\n",
      " |-- TP_ESCOLA: string (nullable = true)\n",
      " |-- TP_ENSINO: string (nullable = true)\n",
      " |-- IN_TREINEIRO: string (nullable = true)\n",
      " |-- CO_MUNICIPIO_ESC: string (nullable = true)\n",
      " |-- NO_MUNICIPIO_ESC: string (nullable = true)\n",
      " |-- CO_UF_ESC: string (nullable = true)\n",
      " |-- SG_UF_ESC: string (nullable = true)\n",
      " |-- TP_DEPENDENCIA_ADM_ESC: string (nullable = true)\n",
      " |-- TP_LOCALIZACAO_ESC: string (nullable = true)\n",
      " |-- TP_SIT_FUNC_ESC: string (nullable = true)\n",
      " |-- CO_MUNICIPIO_PROVA: string (nullable = true)\n",
      " |-- NO_MUNICIPIO_PROVA: string (nullable = true)\n",
      " |-- CO_UF_PROVA: string (nullable = true)\n",
      " |-- SG_UF_PROVA: string (nullable = true)\n",
      " |-- TP_PRESENCA_CN: string (nullable = true)\n",
      " |-- TP_PRESENCA_CH: string (nullable = true)\n",
      " |-- TP_PRESENCA_LC: string (nullable = true)\n",
      " |-- TP_PRESENCA_MT: string (nullable = true)\n",
      " |-- CO_PROVA_CN: string (nullable = true)\n",
      " |-- CO_PROVA_CH: string (nullable = true)\n",
      " |-- CO_PROVA_LC: string (nullable = true)\n",
      " |-- CO_PROVA_MT: string (nullable = true)\n",
      " |-- NU_NOTA_CN: string (nullable = true)\n",
      " |-- NU_NOTA_CH: string (nullable = true)\n",
      " |-- NU_NOTA_LC: string (nullable = true)\n",
      " |-- NU_NOTA_MT: string (nullable = true)\n",
      " |-- TX_RESPOSTAS_CN: string (nullable = true)\n",
      " |-- TX_RESPOSTAS_CH: string (nullable = true)\n",
      " |-- TX_RESPOSTAS_LC: string (nullable = true)\n",
      " |-- TX_RESPOSTAS_MT: string (nullable = true)\n",
      " |-- TP_LINGUA: string (nullable = true)\n",
      " |-- TX_GABARITO_CN: string (nullable = true)\n",
      " |-- TX_GABARITO_CH: string (nullable = true)\n",
      " |-- TX_GABARITO_LC: string (nullable = true)\n",
      " |-- TX_GABARITO_MT: string (nullable = true)\n",
      " |-- TP_STATUS_REDACAO: string (nullable = true)\n",
      " |-- NU_NOTA_COMP1: string (nullable = true)\n",
      " |-- NU_NOTA_COMP2: string (nullable = true)\n",
      " |-- NU_NOTA_COMP3: string (nullable = true)\n",
      " |-- NU_NOTA_COMP4: string (nullable = true)\n",
      " |-- NU_NOTA_COMP5: string (nullable = true)\n",
      " |-- NU_NOTA_REDACAO: string (nullable = true)\n",
      " |-- Q001: string (nullable = true)\n",
      " |-- Q002: string (nullable = true)\n",
      " |-- Q003: string (nullable = true)\n",
      " |-- Q004: string (nullable = true)\n",
      " |-- Q005: string (nullable = true)\n",
      " |-- Q006: string (nullable = true)\n",
      " |-- Q007: string (nullable = true)\n",
      " |-- Q008: string (nullable = true)\n",
      " |-- Q009: string (nullable = true)\n",
      " |-- Q010: string (nullable = true)\n",
      " |-- Q011: string (nullable = true)\n",
      " |-- Q012: string (nullable = true)\n",
      " |-- Q013: string (nullable = true)\n",
      " |-- Q014: string (nullable = true)\n",
      " |-- Q015: string (nullable = true)\n",
      " |-- Q016: string (nullable = true)\n",
      " |-- Q017: string (nullable = true)\n",
      " |-- Q018: string (nullable = true)\n",
      " |-- Q019: string (nullable = true)\n",
      " |-- Q020: string (nullable = true)\n",
      " |-- Q021: string (nullable = true)\n",
      " |-- Q022: string (nullable = true)\n",
      " |-- Q023: string (nullable = true)\n",
      " |-- Q024: string (nullable = true)\n",
      " |-- Q025: string (nullable = true)\n",
      "\n"
     ]
    }
   ],
   "source": [
    "enem.printSchema()"
   ]
  },
  {
   "cell_type": "code",
   "execution_count": 81,
   "metadata": {},
   "outputs": [
    {
     "name": "stderr",
     "output_type": "stream",
     "text": [
      "                                                                                \r"
     ]
    },
    {
     "data": {
      "text/plain": [
       "0"
      ]
     },
     "execution_count": 81,
     "metadata": {},
     "output_type": "execute_result"
    }
   ],
   "source": [
    "enem.where('NU_ANO!=\"2020\"').count()"
   ]
  },
  {
   "cell_type": "markdown",
   "metadata": {},
   "source": [
    "## Carregamento na Processing Zone - Seleção de Columns, Correções dos tipos de dados e Transformação para o formato Parquet"
   ]
  },
  {
   "cell_type": "markdown",
   "metadata": {},
   "source": [
    "### Seleção Columns"
   ]
  },
  {
   "cell_type": "code",
   "execution_count": 98,
   "metadata": {},
   "outputs": [],
   "source": [
    "enemSelecao = enem.select(\"NU_INSCRICAO\", \"TP_SEXO\", \"TP_COR_RACA\", \"CO_MUNICIPIO_ESC\", \"NO_MUNICIPIO_ESC\", \"SG_UF_ESC\", \"TP_PRESENCA_CN\", \"TP_PRESENCA_CH\", \"TP_PRESENCA_LC\", \"TP_PRESENCA_MT\", \"NU_NOTA_CN\", \"NU_NOTA_CH\", \"NU_NOTA_LC\", \"NU_NOTA_MT\", \"NU_NOTA_REDACAO\", \"TP_ST_CONCLUSAO\")"
   ]
  },
  {
   "cell_type": "code",
   "execution_count": 99,
   "metadata": {},
   "outputs": [
    {
     "name": "stdout",
     "output_type": "stream",
     "text": [
      "+------------+-------+-----------+----------------+-------------------+---------+--------------+--------------+--------------+--------------+----------+----------+----------+----------+---------------+---------------+\n",
      "|NU_INSCRICAO|TP_SEXO|TP_COR_RACA|CO_MUNICIPIO_ESC|   NO_MUNICIPIO_ESC|SG_UF_ESC|TP_PRESENCA_CN|TP_PRESENCA_CH|TP_PRESENCA_LC|TP_PRESENCA_MT|NU_NOTA_CN|NU_NOTA_CH|NU_NOTA_LC|NU_NOTA_MT|NU_NOTA_REDACAO|TP_ST_CONCLUSAO|\n",
      "+------------+-------+-----------+----------------+-------------------+---------+--------------+--------------+--------------+--------------+----------+----------+----------+----------+---------------+---------------+\n",
      "|200006271946|      F|          2|            null|               null|     null|             0|             0|             0|             0|      null|      null|      null|      null|           null|              1|\n",
      "|200001195856|      M|          3|            null|               null|     null|             1|             1|             1|             1|     604.1|     661.7|     595.3|     711.3|            580|              1|\n",
      "|200001943954|      F|          3|         2927408|           Salvador|       BA|             0|             0|             0|             0|      null|      null|      null|      null|           null|              2|\n",
      "|200001908998|      M|          3|         3547304|Santana de Parna�ba|       SP|             1|             1|             1|             1|     620.8|       675|     624.2|     759.4|            760|              2|\n",
      "|200001634757|      F|          3|            null|               null|     null|             0|             0|             0|             0|      null|      null|      null|      null|           null|              1|\n",
      "+------------+-------+-----------+----------------+-------------------+---------+--------------+--------------+--------------+--------------+----------+----------+----------+----------+---------------+---------------+\n",
      "\n"
     ]
    }
   ],
   "source": [
    "enemSelecao.limit(5).show()"
   ]
  },
  {
   "cell_type": "markdown",
   "metadata": {},
   "source": [
    "### Correção dos tipos dos dados"
   ]
  },
  {
   "cell_type": "code",
   "execution_count": 100,
   "metadata": {},
   "outputs": [],
   "source": [
    "from pyspark.sql.types import DoubleType, StringType, IntegerType \n",
    "from pyspark.sql import functions as f"
   ]
  },
  {
   "cell_type": "code",
   "execution_count": 101,
   "metadata": {},
   "outputs": [
    {
     "name": "stdout",
     "output_type": "stream",
     "text": [
      "root\n",
      " |-- NU_INSCRICAO: string (nullable = true)\n",
      " |-- TP_SEXO: string (nullable = true)\n",
      " |-- TP_COR_RACA: string (nullable = true)\n",
      " |-- CO_MUNICIPIO_ESC: string (nullable = true)\n",
      " |-- NO_MUNICIPIO_ESC: string (nullable = true)\n",
      " |-- SG_UF_ESC: string (nullable = true)\n",
      " |-- TP_PRESENCA_CN: string (nullable = true)\n",
      " |-- TP_PRESENCA_CH: string (nullable = true)\n",
      " |-- TP_PRESENCA_LC: string (nullable = true)\n",
      " |-- TP_PRESENCA_MT: string (nullable = true)\n",
      " |-- NU_NOTA_CN: string (nullable = true)\n",
      " |-- NU_NOTA_CH: string (nullable = true)\n",
      " |-- NU_NOTA_LC: string (nullable = true)\n",
      " |-- NU_NOTA_MT: string (nullable = true)\n",
      " |-- NU_NOTA_REDACAO: string (nullable = true)\n",
      " |-- TP_ST_CONCLUSAO: string (nullable = true)\n",
      "\n"
     ]
    }
   ],
   "source": [
    "enemSelecao.printSchema()"
   ]
  },
  {
   "cell_type": "code",
   "execution_count": 102,
   "metadata": {},
   "outputs": [
    {
     "name": "stderr",
     "output_type": "stream",
     "text": [
      "                                                                                \r"
     ]
    },
    {
     "data": {
      "text/plain": [
       "0"
      ]
     },
     "execution_count": 102,
     "metadata": {},
     "output_type": "execute_result"
    }
   ],
   "source": [
    "enemSelecao.where(enemSelecao['TP_ST_CONCLUSAO'].isNull()).count()"
   ]
  },
  {
   "cell_type": "code",
   "execution_count": 103,
   "metadata": {},
   "outputs": [],
   "source": [
    "enemSelecaoTipos = enemSelecao\\\n",
    "    .withColumn(\n",
    "    \"TP_COR_RACA\",\n",
    "    enemSelecao[\"TP_COR_RACA\"].cast(IntegerType())\n",
    "    )\\\n",
    "    .withColumn(\n",
    "    \"CO_MUNICIPIO_ESC\",\n",
    "    enemSelecao[\"CO_MUNICIPIO_ESC\"].cast(IntegerType())\n",
    "    )\\\n",
    "    .withColumn(\n",
    "    \"TP_PRESENCA_CN\",\n",
    "    enemSelecao[\"TP_PRESENCA_CN\"].cast(IntegerType())\n",
    "    )\\\n",
    "    .withColumn(\n",
    "    \"TP_PRESENCA_CH\",\n",
    "    enemSelecao[\"TP_PRESENCA_CH\"].cast(IntegerType())\n",
    "    )\\\n",
    "    .withColumn(\n",
    "    \"TP_PRESENCA_LC\",\n",
    "    enemSelecao[\"TP_PRESENCA_LC\"].cast(IntegerType())\n",
    "    )\\\n",
    "    .withColumn(\n",
    "    \"TP_PRESENCA_MT\",\n",
    "    enemSelecao[\"TP_PRESENCA_MT\"].cast(IntegerType())\n",
    "    )\\\n",
    "    .withColumn(\n",
    "    \"NU_NOTA_CN\",\n",
    "    enemSelecao[\"NU_NOTA_CN\"].cast(DoubleType())\n",
    "    )\\\n",
    "    .withColumn(\n",
    "    \"NU_NOTA_CH\",\n",
    "    enemSelecao[\"NU_NOTA_CH\"].cast(DoubleType())\n",
    "    )\\\n",
    "    .withColumn(\n",
    "    \"NU_NOTA_LC\",\n",
    "    enemSelecao[\"NU_NOTA_LC\"].cast(DoubleType())\n",
    "    )\\\n",
    "    .withColumn(\n",
    "    \"NU_NOTA_MT\",\n",
    "    enemSelecao[\"NU_NOTA_MT\"].cast(DoubleType())\n",
    "    )\\\n",
    "    .withColumn(\n",
    "    \"NU_NOTA_REDACAO\",\n",
    "    enemSelecao[\"NU_NOTA_REDACAO\"].cast(IntegerType())\n",
    "    )\\\n",
    "    .withColumn(\n",
    "    \"TP_ST_CONCLUSAO\",\n",
    "    enemSelecao[\"TP_ST_CONCLUSAO\"].cast(IntegerType())\n",
    "    )"
   ]
  },
  {
   "cell_type": "code",
   "execution_count": 104,
   "metadata": {},
   "outputs": [
    {
     "name": "stderr",
     "output_type": "stream",
     "text": [
      "                                                                                \r"
     ]
    },
    {
     "data": {
      "text/plain": [
       "0"
      ]
     },
     "execution_count": 104,
     "metadata": {},
     "output_type": "execute_result"
    }
   ],
   "source": [
    "enemSelecaoTipos.where(enemSelecaoTipos['TP_ST_CONCLUSAO'].isNull()).count()"
   ]
  },
  {
   "cell_type": "code",
   "execution_count": 105,
   "metadata": {},
   "outputs": [
    {
     "name": "stdout",
     "output_type": "stream",
     "text": [
      "root\n",
      " |-- NU_INSCRICAO: string (nullable = true)\n",
      " |-- TP_SEXO: string (nullable = true)\n",
      " |-- TP_COR_RACA: integer (nullable = true)\n",
      " |-- CO_MUNICIPIO_ESC: integer (nullable = true)\n",
      " |-- NO_MUNICIPIO_ESC: string (nullable = true)\n",
      " |-- SG_UF_ESC: string (nullable = true)\n",
      " |-- TP_PRESENCA_CN: integer (nullable = true)\n",
      " |-- TP_PRESENCA_CH: integer (nullable = true)\n",
      " |-- TP_PRESENCA_LC: integer (nullable = true)\n",
      " |-- TP_PRESENCA_MT: integer (nullable = true)\n",
      " |-- NU_NOTA_CN: double (nullable = true)\n",
      " |-- NU_NOTA_CH: double (nullable = true)\n",
      " |-- NU_NOTA_LC: double (nullable = true)\n",
      " |-- NU_NOTA_MT: double (nullable = true)\n",
      " |-- NU_NOTA_REDACAO: integer (nullable = true)\n",
      " |-- TP_ST_CONCLUSAO: integer (nullable = true)\n",
      "\n"
     ]
    }
   ],
   "source": [
    "enemSelecaoTipos.printSchema()"
   ]
  },
  {
   "cell_type": "code",
   "execution_count": 106,
   "metadata": {},
   "outputs": [],
   "source": [
    "novosNomes = {'NU_INSCRICAO':'NumInscricao', 'TP_SEXO':'Sexo', 'TP_COR_RACA':'Etnia', 'CO_MUNICIPIO_ESC':'CodMunicipioEsc', 'NO_MUNICIPIO_ESC':'NomMunicipioEsc', 'SG_UF_ESC':'EstadoEsc', 'TP_PRESENCA_CN':'PresencaCN', 'TP_PRESENCA_CH':'PresencaCH', 'TP_PRESENCA_LC':'PresencaLC', 'TP_PRESENCA_MT':'PresencaMT', 'NU_NOTA_CN':'NotaCN', 'NU_NOTA_CH':'NotaCH', 'NU_NOTA_LC':'NotaLC', 'NU_NOTA_MT':'NotaMT', 'NU_NOTA_REDACAO':'NotaRedacao', 'TP_ST_CONCLUSAO':'SituacaoConclusao'}"
   ]
  },
  {
   "cell_type": "code",
   "execution_count": 107,
   "metadata": {},
   "outputs": [],
   "source": [
    "for key, value in novosNomes.items():\n",
    "    enemSelecaoTipos = enemSelecaoTipos.withColumnRenamed(key, value)"
   ]
  },
  {
   "cell_type": "code",
   "execution_count": 108,
   "metadata": {},
   "outputs": [
    {
     "name": "stdout",
     "output_type": "stream",
     "text": [
      "root\n",
      " |-- NumInscricao: string (nullable = true)\n",
      " |-- Sexo: string (nullable = true)\n",
      " |-- Etnia: integer (nullable = true)\n",
      " |-- CodMunicipioEsc: integer (nullable = true)\n",
      " |-- NomMunicipioEsc: string (nullable = true)\n",
      " |-- EstadoEsc: string (nullable = true)\n",
      " |-- PresencaCN: integer (nullable = true)\n",
      " |-- PresencaCH: integer (nullable = true)\n",
      " |-- PresencaLC: integer (nullable = true)\n",
      " |-- PresencaMT: integer (nullable = true)\n",
      " |-- NotaCN: double (nullable = true)\n",
      " |-- NotaCH: double (nullable = true)\n",
      " |-- NotaLC: double (nullable = true)\n",
      " |-- NotaMT: double (nullable = true)\n",
      " |-- NotaRedacao: integer (nullable = true)\n",
      " |-- SituacaoConclusao: integer (nullable = true)\n",
      "\n"
     ]
    }
   ],
   "source": [
    "enemSelecaoTipos.printSchema()"
   ]
  },
  {
   "cell_type": "markdown",
   "metadata": {},
   "source": [
    "### Transformação para o formato Parquet"
   ]
  },
  {
   "cell_type": "code",
   "execution_count": 9,
   "metadata": {},
   "outputs": [],
   "source": [
    "pathParquet = \"/workspace/teste-engenheiro-de-dados/dados/processing\""
   ]
  },
  {
   "cell_type": "code",
   "execution_count": 110,
   "metadata": {},
   "outputs": [
    {
     "name": "stderr",
     "output_type": "stream",
     "text": [
      "23/06/28 02:06:10 WARN MemoryManager: Total allocation exceeds 95.00% (1,020,054,720 bytes) of heap memory\n",
      "Scaling row group sizes to 95.00% for 8 writers\n",
      "23/06/28 02:06:10 WARN MemoryManager: Total allocation exceeds 95.00% (1,020,054,720 bytes) of heap memory\n",
      "Scaling row group sizes to 84.44% for 9 writers\n",
      "23/06/28 02:06:10 WARN MemoryManager: Total allocation exceeds 95.00% (1,020,054,720 bytes) of heap memory\n",
      "Scaling row group sizes to 76.00% for 10 writers\n",
      "23/06/28 02:06:10 WARN MemoryManager: Total allocation exceeds 95.00% (1,020,054,720 bytes) of heap memory\n",
      "Scaling row group sizes to 69.09% for 11 writers\n",
      "23/06/28 02:06:10 WARN MemoryManager: Total allocation exceeds 95.00% (1,020,054,720 bytes) of heap memory\n",
      "Scaling row group sizes to 63.33% for 12 writers\n",
      "23/06/28 02:06:10 WARN MemoryManager: Total allocation exceeds 95.00% (1,020,054,720 bytes) of heap memory\n",
      "Scaling row group sizes to 58.46% for 13 writers\n",
      "23/06/28 02:06:11 WARN MemoryManager: Total allocation exceeds 95.00% (1,020,054,720 bytes) of heap memory\n",
      "Scaling row group sizes to 54.29% for 14 writers\n",
      "23/06/28 02:06:11 WARN MemoryManager: Total allocation exceeds 95.00% (1,020,054,720 bytes) of heap memory\n",
      "Scaling row group sizes to 50.67% for 15 writers\n",
      "23/06/28 02:06:11 WARN MemoryManager: Total allocation exceeds 95.00% (1,020,054,720 bytes) of heap memory\n",
      "Scaling row group sizes to 47.50% for 16 writers\n",
      "23/06/28 02:06:17 WARN MemoryManager: Total allocation exceeds 95.00% (1,020,054,720 bytes) of heap memory\n",
      "Scaling row group sizes to 50.67% for 15 writers\n",
      "23/06/28 02:06:18 WARN MemoryManager: Total allocation exceeds 95.00% (1,020,054,720 bytes) of heap memory\n",
      "Scaling row group sizes to 54.29% for 14 writers\n",
      "23/06/28 02:06:18 WARN MemoryManager: Total allocation exceeds 95.00% (1,020,054,720 bytes) of heap memory\n",
      "Scaling row group sizes to 58.46% for 13 writers\n",
      "23/06/28 02:06:18 WARN MemoryManager: Total allocation exceeds 95.00% (1,020,054,720 bytes) of heap memory\n",
      "Scaling row group sizes to 63.33% for 12 writers\n",
      "23/06/28 02:06:18 WARN MemoryManager: Total allocation exceeds 95.00% (1,020,054,720 bytes) of heap memory\n",
      "Scaling row group sizes to 69.09% for 11 writers\n",
      "23/06/28 02:06:18 WARN MemoryManager: Total allocation exceeds 95.00% (1,020,054,720 bytes) of heap memory\n",
      "Scaling row group sizes to 76.00% for 10 writers\n",
      "23/06/28 02:06:18 WARN MemoryManager: Total allocation exceeds 95.00% (1,020,054,720 bytes) of heap memory\n",
      "Scaling row group sizes to 84.44% for 9 writers\n",
      "23/06/28 02:06:18 WARN MemoryManager: Total allocation exceeds 95.00% (1,020,054,720 bytes) of heap memory\n",
      "Scaling row group sizes to 95.00% for 8 writers\n",
      "                                                                                \r"
     ]
    }
   ],
   "source": [
    "enemSelecaoTipos.write.parquet(\n",
    "    pathParquet,\n",
    "    mode = \"overwrite\"\n",
    ")"
   ]
  },
  {
   "cell_type": "code",
   "execution_count": 10,
   "metadata": {},
   "outputs": [
    {
     "name": "stderr",
     "output_type": "stream",
     "text": [
      "\r",
      "[Stage 0:>                                                          (0 + 1) / 1]\r",
      "\r",
      "                                                                                \r"
     ]
    }
   ],
   "source": [
    "enemParquet = spark.read.parquet(\n",
    "    pathParquet\n",
    ")"
   ]
  },
  {
   "cell_type": "code",
   "execution_count": 11,
   "metadata": {},
   "outputs": [
    {
     "name": "stderr",
     "output_type": "stream",
     "text": [
      "\r",
      "[Stage 1:>                                                          (0 + 1) / 1]\r",
      "\r",
      "                                                                                \r"
     ]
    },
    {
     "name": "stdout",
     "output_type": "stream",
     "text": [
      "+------------+----+-----+---------------+---------------+---------+----------+----------+----------+----------+------+------+------+------+-----------+-----------------+\n",
      "|NumInscricao|Sexo|Etnia|CodMunicipioEsc|NomMunicipioEsc|EstadoEsc|PresencaCN|PresencaCH|PresencaLC|PresencaMT|NotaCN|NotaCH|NotaLC|NotaMT|NotaRedacao|SituacaoConclusao|\n",
      "+------------+----+-----+---------------+---------------+---------+----------+----------+----------+----------+------+------+------+------+-----------+-----------------+\n",
      "|200003297356|   F|    2|           null|           null|     null|         0|         0|         0|         0|  null|  null|  null|  null|       null|                1|\n",
      "|200003373109|   F|    2|           null|           null|     null|         0|         0|         0|         0|  null|  null|  null|  null|       null|                1|\n",
      "|200004404163|   F|    1|           null|           null|     null|         0|         0|         0|         0|  null|  null|  null|  null|       null|                3|\n",
      "|200001704986|   M|    1|           null|           null|     null|         1|         1|         1|         1| 578.7| 624.6| 612.1| 638.7|        880|                1|\n",
      "|200001049116|   F|    1|           null|           null|     null|         1|         1|         1|         1| 643.5| 645.9| 592.8| 682.6|        620|                1|\n",
      "+------------+----+-----+---------------+---------------+---------+----------+----------+----------+----------+------+------+------+------+-----------+-----------------+\n",
      "\n"
     ]
    }
   ],
   "source": [
    "enemParquet.limit(5).show()"
   ]
  },
  {
   "cell_type": "code",
   "execution_count": 12,
   "metadata": {},
   "outputs": [
    {
     "data": {
      "text/plain": [
       "5783109"
      ]
     },
     "execution_count": 12,
     "metadata": {},
     "output_type": "execute_result"
    }
   ],
   "source": [
    "enemParquet.count()"
   ]
  },
  {
   "cell_type": "markdown",
   "metadata": {},
   "source": [
    "## Curated Zone - Criando as tabelas para cada pergunta"
   ]
  },
  {
   "cell_type": "markdown",
   "metadata": {},
   "source": [
    "### Criando uma View"
   ]
  },
  {
   "cell_type": "code",
   "execution_count": 13,
   "metadata": {},
   "outputs": [],
   "source": [
    "enemParquet.createOrReplaceTempView(\"enemView\")"
   ]
  },
  {
   "cell_type": "markdown",
   "metadata": {},
   "source": [
    "### 1 - Qual a escola com a maior média de notas?"
   ]
  },
  {
   "cell_type": "code",
   "execution_count": 69,
   "metadata": {},
   "outputs": [],
   "source": [
    "escolaMaiorMedia = spark.sql(\"\"\"\n",
    "        SELECT \n",
    "            CodMunicipioEsc, NomMunicipioEsc, \n",
    "            EstadoEsc, ROUND(AVG(MediaNotas), 2) AS MediaNotas\n",
    "        FROM\n",
    "            (SELECT\n",
    "                NumInscricao, CodMunicipioEsc, NomMunicipioEsc, EstadoEsc, \n",
    "                ROUND((NotaCN+NotaCH+NotaLC+NotaMT+NotaRedacao)/5, 2) AS MediaNotas\n",
    "            FROM\n",
    "                enemView\n",
    "            WHERE \n",
    "                    SituacaoConclusao == 2 \n",
    "                AND \n",
    "                    CodMunicipioEsc IS NOT NULL \n",
    "                AND \n",
    "                    NotaMT IS NOT NULL\n",
    "                AND\n",
    "                    NotaCH IS NOT NULL\n",
    "                AND\n",
    "                    NotaCN IS NOT NULL\n",
    "                AND\n",
    "                    NotaLC IS NOT NULL\n",
    "                AND \n",
    "                    NotaRedacao IS NOT NULL\n",
    "            )\n",
    "        GROUP BY CodMunicipioEsc,NomMunicipioEsc, EstadoEsc  \n",
    "        ORDER BY MediaNotas DESC\n",
    "        \"\"\")"
   ]
  },
  {
   "cell_type": "code",
   "execution_count": 70,
   "metadata": {},
   "outputs": [
    {
     "name": "stderr",
     "output_type": "stream",
     "text": [
      "[Stage 46:==========>                                             (3 + 13) / 16]\r"
     ]
    },
    {
     "name": "stdout",
     "output_type": "stream",
     "text": [
      "+---------------+--------------------+---------+----------+\n",
      "|CodMunicipioEsc|     NomMunicipioEsc|EstadoEsc|MediaNotas|\n",
      "+---------------+--------------------+---------+----------+\n",
      "|        3158904| Santana do Manhua�u|       MG|    706.56|\n",
      "|        4313466|          Novo Xingu|       RS|     704.9|\n",
      "|        4305850|    Coqueiros do Sul|       RS|    693.52|\n",
      "|        4117297|      Novo Itacolomi|       PR|     692.7|\n",
      "|        3107000|           Biquinhas|       MG|    685.64|\n",
      "|        3147808|         Passa Vinte|       MG|    681.74|\n",
      "|        3160009|Santo Ant�nio do ...|       MG|     670.8|\n",
      "|        3170651|Vargem Grande do ...|       MG|    668.77|\n",
      "|        3149408|      Pedro Teixeira|       MG|    656.16|\n",
      "|        4304853|        Carlos Gomes|       RS|    654.44|\n",
      "+---------------+--------------------+---------+----------+\n",
      "\n"
     ]
    },
    {
     "name": "stderr",
     "output_type": "stream",
     "text": [
      "\r",
      "[Stage 46:=================>                                      (5 + 11) / 16]\r",
      "\r",
      "                                                                                \r"
     ]
    }
   ],
   "source": [
    "escolaMaiorMedia.limit(10).show()"
   ]
  },
  {
   "cell_type": "code",
   "execution_count": 56,
   "metadata": {},
   "outputs": [
    {
     "data": {
      "text/plain": [
       "5425"
      ]
     },
     "execution_count": 56,
     "metadata": {},
     "output_type": "execute_result"
    }
   ],
   "source": [
    "escolaMaiorMedia.count()"
   ]
  },
  {
   "cell_type": "markdown",
   "metadata": {},
   "source": [
    "### 2 - Qual o aluno com a maior média de notas e o valor dessa média?\n"
   ]
  },
  {
   "cell_type": "code",
   "execution_count": 71,
   "metadata": {},
   "outputs": [],
   "source": [
    "alunoMaiorNota = spark.sql(\"\"\"\n",
    "        SELECT\n",
    "            *\n",
    "        FROM\n",
    "            (SELECT\n",
    "                NumInscricao, Sexo, \n",
    "                Etnia, NomMunicipioEsc, \n",
    "                EstadoEsc, \n",
    "                SituacaoConclusao,\n",
    "                ROUND((NotaCN+NotaCH+NotaLC+NotaMT+NotaRedacao)/5, 2) AS MediaNotas\n",
    "            FROM\n",
    "                enemView\n",
    "            WHERE \n",
    "                    NomMunicipioEsc IS NOT NULL \n",
    "                AND\n",
    "                    NotaMT IS NOT NULL\n",
    "                AND\n",
    "                    NotaCH IS NOT NULL\n",
    "                AND\n",
    "                    NotaCN IS NOT NULL\n",
    "                AND\n",
    "                    NotaLC IS NOT NULL\n",
    "                AND \n",
    "                    NotaRedacao IS NOT NULL)\n",
    "        ORDER BY MediaNotas DESC\n",
    "        \"\"\")"
   ]
  },
  {
   "cell_type": "code",
   "execution_count": 72,
   "metadata": {},
   "outputs": [
    {
     "name": "stderr",
     "output_type": "stream",
     "text": [
      "[Stage 49:============================>                            (8 + 8) / 16]\r"
     ]
    },
    {
     "name": "stdout",
     "output_type": "stream",
     "text": [
      "+------------+----+-----+---------------+---------+-----------------+----------+\n",
      "|NumInscricao|Sexo|Etnia|NomMunicipioEsc|EstadoEsc|SituacaoConclusao|MediaNotas|\n",
      "+------------+----+-----+---------------+---------+-----------------+----------+\n",
      "|200001357436|   M|    1| Rio de Janeiro|       RJ|                2|    852.76|\n",
      "|200001850224|   F|    1|      S�o Paulo|       SP|                2|    851.34|\n",
      "|200006051511|   F|    1|    Jo�o Pessoa|       PB|                2|    850.74|\n",
      "|200005145247|   M|    4|Mogi das Cruzes|       SP|                2|     846.8|\n",
      "|200001423299|   M|    1| Belo Horizonte|       MG|                2|     845.0|\n",
      "|200001622477|   M|    1|       Salvador|       BA|                2|     844.9|\n",
      "|200005414259|   F|    1|       Bras�lia|       DF|                2|     844.3|\n",
      "|200001870736|   M|    1|          Bel�m|       PA|                2|    843.76|\n",
      "|200003054964|   M|    3|        Aracaju|       SE|                2|    843.38|\n",
      "|200005870952|   M|    1|      S�o Paulo|       SP|                2|    842.52|\n",
      "+------------+----+-----+---------------+---------+-----------------+----------+\n",
      "\n"
     ]
    },
    {
     "name": "stderr",
     "output_type": "stream",
     "text": [
      "\r",
      "[Stage 49:========================================================(16 + 0) / 16]\r",
      "\r",
      "                                                                                \r"
     ]
    }
   ],
   "source": [
    "alunoMaiorNota.limit(10).show()"
   ]
  },
  {
   "cell_type": "markdown",
   "metadata": {},
   "source": [
    "### 3 - Qual a média geral?"
   ]
  },
  {
   "cell_type": "code",
   "execution_count": 73,
   "metadata": {},
   "outputs": [],
   "source": [
    "mediaGeral = spark.sql(\"\"\"\n",
    "        SELECT \n",
    "            ROUND(AVG(ROUND((NotaCN+NotaCH+NotaLC+NotaMT+NotaRedacao)/5, 2)), 2) AS MediaGeral\n",
    "        FROM\n",
    "            (SELECT \n",
    "                *\n",
    "            FROM\n",
    "                enemView\n",
    "            WHERE\n",
    "                    NotaMT IS NOT NULL\n",
    "                AND\n",
    "                    NotaCH IS NOT NULL\n",
    "                AND\n",
    "                    NotaCN IS NOT NULL\n",
    "                AND\n",
    "                    NotaLC IS NOT NULL\n",
    "                AND \n",
    "                    NotaRedacao IS NOT NULL\n",
    "            )\n",
    "        \"\"\")"
   ]
  },
  {
   "cell_type": "code",
   "execution_count": 74,
   "metadata": {},
   "outputs": [
    {
     "name": "stderr",
     "output_type": "stream",
     "text": [
      "[Stage 50:==========================================>             (12 + 4) / 16]\r"
     ]
    },
    {
     "name": "stdout",
     "output_type": "stream",
     "text": [
      "+----------+\n",
      "|MediaGeral|\n",
      "+----------+\n",
      "|    526.58|\n",
      "+----------+\n",
      "\n"
     ]
    },
    {
     "name": "stderr",
     "output_type": "stream",
     "text": [
      "\r",
      "                                                                                \r"
     ]
    }
   ],
   "source": [
    "mediaGeral.limit(10).show()"
   ]
  },
  {
   "cell_type": "markdown",
   "metadata": {},
   "source": [
    "### 4 - Qual o % de Ausentes?"
   ]
  },
  {
   "cell_type": "code",
   "execution_count": null,
   "metadata": {},
   "outputs": [],
   "source": []
  },
  {
   "cell_type": "code",
   "execution_count": null,
   "metadata": {},
   "outputs": [],
   "source": [
    "|NumInscricao|Sexo|Etnia|CodMunicipioEsc|NomMunicipioEsc|EstadoEsc|PresencaCN|PresencaCH|PresencaLC|PresencaMT|NotaCN|NotaCH|NotaLC|NotaMT|NotaRedacao|SituacaoConclusao|"
   ]
  }
 ],
 "metadata": {
  "kernelspec": {
   "display_name": "Python 3 (ipykernel)",
   "language": "python",
   "name": "python3"
  },
  "language_info": {
   "codemirror_mode": {
    "name": "ipython",
    "version": 3
   },
   "file_extension": ".py",
   "mimetype": "text/x-python",
   "name": "python",
   "nbconvert_exporter": "python",
   "pygments_lexer": "ipython3",
   "version": "3.11.1"
  }
 },
 "nbformat": 4,
 "nbformat_minor": 2
}
